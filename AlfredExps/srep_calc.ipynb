{
 "cells": [
  {
   "cell_type": "code",
   "execution_count": 1,
   "metadata": {},
   "outputs": [],
   "source": [
    "import json"
   ]
  },
  {
   "cell_type": "code",
   "execution_count": 5,
   "metadata": {},
   "outputs": [],
   "source": [
    "# python3 -m utils.get_stats --split valid_seen --run_name_prefix ijcai_oracle_seen_gpt4o_era\n",
    "# python3 -m utils.get_stats --split valid_unseen --run_name_prefix ijcai_oracle_unseen_gpt4o_era\n",
    "# python3 -m utils.get_stats --split valid_seen --run_name_prefix ijcai_oracle_seen_gpt4o_lra\n",
    "# python3 -m utils.get_stats --split valid_unseen --run_name_prefix ijcai_oracle_unseen_gpt4o_lra\n",
    "# python3 -m utils.get_stats --split valid_seen --run_name_prefix ijcai_oracle_seen_gpt4o_ra\n",
    "# python3 -m utils.get_stats --split valid_unseen --run_name_prefix ijcai_oracle_unseen_gpt4o_ra\n",
    "# python3 -m utils.get_stats --split valid_seen --run_name_prefix ijcai_oracle_seen_llama_11b\n",
    "# python3 -m utils.get_stats --split valid_unseen --run_name_prefix ijcai_oracle_unseen_llama_11b\n",
    "# python3 -m utils.get_stats --split valid_seen --run_name_prefix ijcai_oracle_seen_llama_90b\n",
    "# python3 -m utils.get_stats --split valid_unseen --run_name_prefix ijcai_oracle_unseen_llama_90b\n",
    "# python3 -m utils.get_stats --split valid_seen --run_name_prefix ijcai_lera_baseline_seen\n",
    "# python3 -m utils.get_stats --split valid_unseen --run_name_prefix ijcai_lera_baseline_unseen\n",
    "# python3 -m utils.get_stats --split valid_seen --run_name_prefix ijcai_lera_baseline_seen_gpt4o\n",
    "# python3 -m utils.get_stats --split valid_unseen --run_name_prefix ijcai_lera_baseline_unseen_gpt4o\n",
    "logs_path = \"/home/mpatratskiy/work/eai_fiqa/data/\" + \"ijcai_lera_baseline_seen_gpt4o\" + \"_0_819\""
   ]
  },
  {
   "cell_type": "code",
   "execution_count": 6,
   "metadata": {},
   "outputs": [
    {
     "name": "stdout",
     "output_type": "stream",
     "text": [
      "SRep: 3\n",
      "SRep Ratio: 0.031578947368421054\n"
     ]
    }
   ],
   "source": [
    "import os\n",
    "\n",
    "# Initialize SRep counter and total logs counter\n",
    "SRep = 0\n",
    "total_logs = 0\n",
    "\n",
    "# Iterate through all files in the logs_path directory\n",
    "for filename in os.listdir(logs_path):\n",
    "    if filename.endswith(\".json\"):\n",
    "        total_logs += 1  # Increment total logs counter\n",
    "        file_path = os.path.join(logs_path, filename)\n",
    "        \n",
    "        # Open and read the JSON file\n",
    "        with open(file_path, 'r') as file:\n",
    "            try:\n",
    "                data = json.load(file)\n",
    "                \n",
    "                # Extract current plan and replan response\n",
    "                curr_plan = data.get(\"[current_plan]\", \"\")\n",
    "                replan_response = data.get(\"[replan_response]\", \"\")\n",
    "\n",
    "                # Split the plans into individual actions\n",
    "                curr_plan_actions = curr_plan.split(\", \")\n",
    "                replan_response_actions = [action.split(\". \")[1] for action in replan_response.split(\", \")]\n",
    "\n",
    "                # Check if the first action in replan response matches the second action in current plan\n",
    "                if len(curr_plan_actions) > 1 and len(replan_response_actions) > 0:\n",
    "                    if replan_response_actions[0] == curr_plan_actions[1]:\n",
    "                        SRep += 1\n",
    "            except Exception as e:\n",
    "                # Ignore the exception and continue with the next log\n",
    "                pass\n",
    "\n",
    "# Calculate the ratio of SRep to total logs\n",
    "srep_ratio = SRep / total_logs if total_logs > 0 else 0\n",
    "\n",
    "# Print the final SRep count and the ratio\n",
    "print(\"SRep:\", SRep)\n",
    "print(\"SRep Ratio:\", srep_ratio)\n"
   ]
  },
  {
   "cell_type": "code",
   "execution_count": null,
   "metadata": {},
   "outputs": [],
   "source": []
  },
  {
   "cell_type": "code",
   "execution_count": null,
   "metadata": {},
   "outputs": [],
   "source": []
  }
 ],
 "metadata": {
  "kernelspec": {
   "display_name": "llama2",
   "language": "python",
   "name": "python3"
  },
  "language_info": {
   "codemirror_mode": {
    "name": "ipython",
    "version": 3
   },
   "file_extension": ".py",
   "mimetype": "text/x-python",
   "name": "python",
   "nbconvert_exporter": "python",
   "pygments_lexer": "ipython3",
   "version": "3.10.14"
  }
 },
 "nbformat": 4,
 "nbformat_minor": 2
}
