{
 "cells": [
  {
   "cell_type": "code",
   "execution_count": 2,
   "metadata": {},
   "outputs": [],
   "source": [
    "%load_ext autoreload\n",
    "%autoreload 2"
   ]
  },
  {
   "cell_type": "code",
   "execution_count": null,
   "metadata": {},
   "outputs": [],
   "source": [
    "from table_environment import PickPlaceEnv\n",
    "from motion_primitives import Motion_primitives\n",
    "from utils import (\n",
    "    save_image,\n",
    "    display_image,\n",
    "    display_images,\n",
    "    extract_action_details,\n",
    "    is_task_successful,\n",
    "    validate_action_execution,\n",
    "    save_json,\n",
    "    load_json,\n",
    "    validate_plan,\n",
    "    run_experiment,\n",
    "    save_images,\n",
    "    Replanner\n",
    ")\n",
    "from tasks import task1, task2, task3, task4\n",
    "from custom_logger import FileLogger\n",
    "import os\n",
    "import re\n",
    "import pandas as pd\n",
    "import time"
   ]
  },
  {
   "cell_type": "code",
   "execution_count": 4,
   "metadata": {},
   "outputs": [],
   "source": [
    "logger = FileLogger(log_filename=\"log.txt\", log_dir=\".\", log_to_stdout=True)\n",
    "logger.set_log_level(\"INFO\")"
   ]
  },
  {
   "cell_type": "code",
   "execution_count": null,
   "metadata": {},
   "outputs": [],
   "source": [
    "# ------------------------------------------------------------------------------------------------\n",
    "# - Parameters\n",
    "# ------------------------------------------------------------------------------------------------\n",
    "\n",
    "experiment_name = \"lera_test_replanner\"\n",
    "tasks = [task4]\n",
    "model_name = \"gpt-4o\"\n",
    "images_to_use = 4\n",
    "images_step = 30\n",
    "drop_prob = (0, 1.0)\n",
    "do_replan = True\n",
    "save_video = True\n",
    "\n",
    "\n",
    "# -------------------------------------------------------------------------------------------------\n",
    "# - Experiment\n",
    "# -------------------------------------------------------------------------------------------------\n",
    "logger.info(f\"=\"*50)\n",
    "logger.info(f\"Running experiment: {experiment_name}\")\n",
    "logger.info(f\"=\"*50)\n",
    "base_path = f\"~/work/pybullet/Pybullet/results_logs/\"\n",
    "experiment_path = os.path.join(base_path, experiment_name)\n",
    "if not os.path.exists(experiment_path):\n",
    "    os.makedirs(experiment_path)\n",
    "\n",
    "replanner = Replanner(experiment_name, images_to_use=images_to_use, images_step=images_step, model_name=model_name)\n",
    "\n",
    "for task in tasks:\n",
    "    for exp_run in range(10):\n",
    "        if os.path.exists(os.path.join(experiment_path, task[\"name\"] + f\"_{exp_run}.json\")):\n",
    "            logger.info(f\"Skipping task: {task['name']} + _{exp_run}, log already exists\")\n",
    "            continue\n",
    "        logger.info(f\"-\"*50)\n",
    "        logger.info(f\"Running task: {task['name']}, goal: {task['goal']}\")\n",
    "        logger.info(f\"-\"*50)\n",
    "        goal = task[\"goal\"]\n",
    "        obj_list = task[\"obj_list\"]\n",
    "        plan = task[\"plan\"]\n",
    "        validation_rule = task[\"validation_rule\"]\n",
    "        \n",
    "        env = PickPlaceEnv(render=True)\n",
    "        _ = env.reset(obj_list)\n",
    "        motion = Motion_primitives(env, obj_list, drop_type='place', drop_prob=drop_prob)\n",
    "        env_actions = {\n",
    "            'locate': motion.locate,\n",
    "            'pick': motion.pick,\n",
    "            'place': motion.place,\n",
    "            'done': lambda args=None: is_task_successful(env, validation_rule)\n",
    "        }  \n",
    "        \n",
    "        available_actions = list(set([\n",
    "            f\"{action}('{obj}')\" if action != 'done' else \"done()\"\n",
    "            for action in env_actions\n",
    "            for obj in obj_list\n",
    "        ]))\n",
    "        \n",
    "        result_states = run_experiment(\n",
    "            env=env, \n",
    "            replanner=replanner,\n",
    "            obj_list=obj_list, \n",
    "            plan=plan, \n",
    "            validation_rule=validation_rule, \n",
    "            available_actions=available_actions, \n",
    "            env_actions=env_actions, \n",
    "            goal=goal, \n",
    "            logger=logger, \n",
    "            do_replan=do_replan, \n",
    "            max_replan_count=5\n",
    "        )\n",
    "    \n",
    "        save_json(result_states, os.path.join(experiment_path, task[\"name\"] + f\"_{exp_run}.json\"))\n",
    "        if save_video:\n",
    "            display_images(\n",
    "                images=env.cache_video[::13], \n",
    "                save_path=os.path.join(experiment_path, task[\"name\"] + f\"_{exp_run}.gif\"), \n",
    "                do_display=False\n",
    "            )"
   ]
  },
  {
   "cell_type": "code",
   "execution_count": null,
   "metadata": {},
   "outputs": [],
   "source": [
    "images_to_use = 13\n",
    "images_step = 13\n",
    "display_images(\n",
    "    images=env.cache_video[-(images_to_use-1)*images_step-1::images_step], \n",
    "    # save_path=os.path.join(experiment_path, task[\"name\"] + f\"_{exp_run}.gif\"), \n",
    "    do_display=True\n",
    ")"
   ]
  },
  {
   "cell_type": "code",
   "execution_count": null,
   "metadata": {},
   "outputs": [],
   "source": [
    "replanner = Replanner(experiment_name, images_to_use=images_to_use, images_step=images_step, model_name=\"gpt-4o\")\n"
   ]
  },
  {
   "cell_type": "code",
   "execution_count": null,
   "metadata": {},
   "outputs": [],
   "source": [
    "goal = \"put blocks in bowls with same color\"\n",
    "success_actions = [\"locate('blue block')\", \"pick('blue block')\", \"locate('blue bowl')\", \"place('blue bowl')\", \"locate('red block')\", \"pick('red block')\", \"locate('red bowl')\"]\n",
    "current_plan = [\"place('red bowl')\", \"done()\"]\n",
    "\n",
    "obj_list = task2[\"obj_list\"]\n",
    "env_actions = [\"locate\", \"pick\", \"place\", \"done\"]\n",
    "available_actions = list(set([\n",
    "    f\"{action}('{obj}')\" if action != 'done' else \"done()\"\n",
    "    for action in env_actions\n",
    "    for obj in obj_list\n",
    "]))\n",
    "current_images = \"~/work/pybullet/Pybullet/saved_images/unnamed.png\"\n",
    "\n",
    "\n",
    "replanner.replan(goal, success_actions, current_plan, available_actions, current_images)"
   ]
  },
  {
   "cell_type": "code",
   "execution_count": 9,
   "metadata": {},
   "outputs": [],
   "source": [
    "from llserver.utils.handler import UniserverHandler"
   ]
  },
  {
   "cell_type": "code",
   "execution_count": null,
   "metadata": {},
   "outputs": [],
   "source": [
    "handler = UniserverHandler(port=8000)\n",
    "prompt = \"\"\"put blocks in bowls with same color###[\"locate(\\'blue block\\')\", \"pick(\\'blue block\\')\", \"locate(\\'blue bowl\\')\", \"place_on_top_of(\\'blue bowl\\')\", \"locate(\\'red block\\')\", \"pick(\\'red block\\')\", \"locate(\\'red bowl\\')\"]###[\"place_on_top_of(\\'red bowl\\')\", \\'done()\\']###[\"place_on_top_of(\\'blue block\\')\", \"pick(\\'blue bowl\\')\", \"locate(\\'red block\\')\", \\'done()\\', \"pick(\\'red bowl\\')\", \"locate(\\'blue block\\')\", \"pick(\\'red block\\')\", \"place_on_top_of(\\'red block\\')\", \"place_on_top_of(\\'blue bowl\\')\", \"place_on_top_of(\\'red bowl\\')\", \"pick(\\'blue block\\')\", \"locate(\\'red bowl\\')\", \"locate(\\'blue bowl\\')\"]\"\"\"\n",
    "dirs = [\"~/work/meta_world/llserver/data/lera_test_replanner/0.png\"]\n",
    "\n",
    "put_response = handler.put_task(model_id=\"949c6169-db8e-4772-9d6f-5440a698cc2d\", prompt=prompt, image_paths=dirs)\n",
    "task_id = put_response[\"task_id\"][\"task_id\"]"
   ]
  },
  {
   "cell_type": "code",
   "execution_count": null,
   "metadata": {},
   "outputs": [],
   "source": [
    "\n",
    "\n",
    "status = \"\"\n",
    "# initial wait time is large because the model \n",
    "# definitely needs to process the request\n",
    "wait_time = 10\n",
    "while status != \"completed\":\n",
    "    time.sleep(wait_time)\n",
    "    result_response = self.handler.get_task_result(model_id=self.model_id, task_id=task_id)\n",
    "    status = result_response.get(\"status\")\n",
    "    print(f\"Status: {status}\")\n",
    "    \n",
    "    # after the first request, the wait time is smaller\n",
    "    # initial wait time should not be divisible by new\n",
    "    # this is made to avoid queues\n",
    "    wait_time = 3\n",
    "\n",
    "if status == \"not found\":\n",
    "    raise Exception(\"Task failed: Task not found\")\n",
    "\n",
    "predicted_actions = result_response.get(\"result\")\n",
    "actions_list = predicted_actions.strip().strip(\"\\n\").strip('[]').split(', ')"
   ]
  },
  {
   "cell_type": "code",
   "execution_count": null,
   "metadata": {},
   "outputs": [],
   "source": []
  },
  {
   "cell_type": "code",
   "execution_count": null,
   "metadata": {},
   "outputs": [],
   "source": []
  },
  {
   "cell_type": "code",
   "execution_count": null,
   "metadata": {},
   "outputs": [],
   "source": [
    "predicted_actions = [\"locate('green block')\", \"pick('green block')\", \"locate('red block')\", \"place_on_top_of('red block')\", \"done()\"]\n",
    "actions_list = predicted_actions.strip('[]').split(', ')\n",
    "actions_list"
   ]
  },
  {
   "cell_type": "code",
   "execution_count": null,
   "metadata": {},
   "outputs": [],
   "source": []
  },
  {
   "cell_type": "code",
   "execution_count": null,
   "metadata": {},
   "outputs": [],
   "source": [
    "result_states[2][\"inputs\"][\"plan\"]\n"
   ]
  },
  {
   "cell_type": "code",
   "execution_count": null,
   "metadata": {},
   "outputs": [],
   "source": [
    "[\"locate('blue block')\", \"pick('blue block')\", \"locate('red bowl')\", \"place_on_top_of('red bowl')\", \"locate('red block')\", \"pick('red block')\", \"locate('red bowl')\", \"place_on_top_of('red bowl')\", \"locate('green block')\", \"pick('green block')\", \"locate('red bowl')\", \"place_on_top_of('red bowl')\", 'done()]\\n']"
   ]
  },
  {
   "cell_type": "code",
   "execution_count": null,
   "metadata": {},
   "outputs": [],
   "source": [
    "replan_plan = replanning(goal, success_actions, current_plan, available_actions, current_image)\n",
    "replan_plan\n"
   ]
  },
  {
   "cell_type": "code",
   "execution_count": null,
   "metadata": {},
   "outputs": [],
   "source": [
    "prompt = f\"\"\"{goal}###{[]}###{result_states[2][\"inputs\"][\"plan\"]}###{available_actions}\"\"\".replace(\"place\", \"place_on_top_of\") \n",
    "# save_image(current_image, f\"image\")\n",
    "\n",
    "put_task_response = put_task(\n",
    "    image_paths=[\n",
    "        \"~/work/pybullet/Pybullet/saved_images/image.png\",\n",
    "    ], \n",
    "    prompt=prompt\n",
    ")\n",
    "\n",
    "task_id = put_task_response.get(\"task_id\")\n",
    "\n",
    "status = \"\"\n",
    "while status != \"completed\":\n",
    "    result_response = get_task_result(task_id)\n",
    "    status = result_response.get(\"status\")\n",
    "    print(f\"Status: {status}\")\n",
    "    time.sleep(1)\n",
    "\n",
    "if status == \"not found\":\n",
    "    raise Exception(\"Task failed: Task not found\")\n",
    "\n",
    "predicted_actions = result_response.get(\"result\")\n",
    "actions_list = predicted_actions.strip('[]').split(', ')\n",
    "actions_list"
   ]
  },
  {
   "cell_type": "code",
   "execution_count": 7,
   "metadata": {},
   "outputs": [],
   "source": [
    "# result_states = run_experiment(env, OBJ_LIST, PLAN, VALIDATION_RULE, AVAILABLE_ACTIONS, ENV_ACTIONS, GOAL, logger, do_replan=False, max_replan_count=5)"
   ]
  },
  {
   "cell_type": "code",
   "execution_count": 109,
   "metadata": {},
   "outputs": [],
   "source": [
    "# new_plan = ['\"locate(\\'red block\\')\"', '\"pick(\\'red block\\')\"', '\"locate(\\'blue bowl\\')\"', '\"place_on_top_of(\\'blue bowl\\')\"', '\"locate(\\'red block\\')\"', '\"pick(\\'red block\\')\"', '\"locate(\\'red bowl\\')\"', '\"place_on_top_of(\\'red bowl\\')\"', '\"done()\"']\n",
    "# new_plan2 = ['\"locate(\\'red bowl\\')\"', '\"place_on_top_of(\\'red bowl\\')\"', '\"pick(\\'brown block\\')\"', '\"place_on_top_of(\\'cyan block\\')\"', \"'done()'\"]\n",
    "# new_plan3 = ['\"locate(\\'cyan block\\')\"', '\"pick(\\'cyan block\\')\"', '\"locate(\\'red bowl\\')\"', '\"place_on_top_of(\\'cyan block\\')\"', '\"locate(\\'brown block\\')\"', '\"pick(\\'brown block\\')\"', '\"locate(\\'red bowl\\')\"', '\"place_on_top_of(\\'brown block\\')\"', \"'done()'\"]\n",
    "# new_plan4 = ['\"locate(\\'brown block\\')\"', '\"pick(\\'brown block\\')\"', '\"place_on_top_of(\\'cyan block\\')\"', \"'done()'\"]\n",
    "\n",
    "# good_plan = ['\"locate(\\'cyan block\\')\"', '\"pick(\\'cyan block\\')\"', '\"locate(\\'red bowl\\')\"', '\"place_on_top_of(\\'red bowl\\')\"', '\"locate(\\'brown block\\')\"', '\"pick(\\'brown block\\')\"', '\"place_on_top_of(\\'brown block\\')\"', '\"done()\"']\n",
    "\n",
    "# # ['\"locate(\\'red block\\')\"', '\"pick(\\'red block\\')\"', '\"locate(\\'blue bowl\\')\"', '\"place_on_top_of(\\'blue bowl\\')\"', '\"locate(\\'red block\\')\"', '\"pick(\\'red block\\')\"', '\"locate(\\'red bowl\\')\"', '\"place_on_top_of(\\'red bowl\\')\"', '\"done()\"']\n",
    "# validate_plan(new_plan, tmp[\"inputs\"][\"available_actions\"])\n",
    "# tmp = {'inputs': {'goal': 'put blocks in bowls with same color', 'obj_list': ['blue block', 'red block', 'blue bowl', 'red bowl'], 'plan': \"locate('blue block')\\npick('blue block')\\nlocate('blue bowl')\\nplace('blue bowl')\\nlocate('red block')\\npick('red block')\\nlocate('red bowl')\\nplace('red bowl')\\ndone()\", 'validation_rule': [('blue block', 'blue bowl'), ('red block', 'red bowl')], 'available_actions': [\"locate('red block')\", \"place('red block')\", \"locate('red bowl')\", \"locate('blue block')\", \"locate('blue bowl')\", 'done()', \"pick('red block')\", \"place('red bowl')\", \"pick('blue bowl')\", \"place('blue bowl')\", \"pick('blue block')\", \"place('blue block')\", \"pick('red bowl')\"]}, 'action_idx': 7, 'action': \"place('red bowl')\", 'action_name': 'place', 'object_name': 'red bowl', 'success': False, 'done': False, 'last_action_success': False, 'validation_rule': [('blue block', 'blue bowl'), ('red block', 'red bowl')], 'gripper_object': None, 'plan_actions': [\"locate('blue block')\", \"pick('blue block')\", \"locate('blue bowl')\", \"place('blue bowl')\", \"locate('red block')\", \"pick('red block')\", \"locate('red bowl')\", \"place('red bowl')\", 'done()'], 'replan_count': 0, 'was_replanning_successful': True}\n"
   ]
  },
  {
   "cell_type": "code",
   "execution_count": null,
   "metadata": {},
   "outputs": [],
   "source": [
    "display_images(env.cache_video[::13])"
   ]
  },
  {
   "cell_type": "code",
   "execution_count": null,
   "metadata": {},
   "outputs": [],
   "source": []
  },
  {
   "cell_type": "code",
   "execution_count": null,
   "metadata": {},
   "outputs": [],
   "source": []
  },
  {
   "cell_type": "code",
   "execution_count": null,
   "metadata": {},
   "outputs": [],
   "source": []
  },
  {
   "cell_type": "code",
   "execution_count": null,
   "metadata": {},
   "outputs": [],
   "source": []
  },
  {
   "cell_type": "code",
   "execution_count": null,
   "metadata": {},
   "outputs": [],
   "source": []
  },
  {
   "cell_type": "code",
   "execution_count": null,
   "metadata": {},
   "outputs": [],
   "source": []
  },
  {
   "cell_type": "code",
   "execution_count": null,
   "metadata": {},
   "outputs": [],
   "source": []
  }
 ],
 "metadata": {
  "kernelspec": {
   "display_name": "pbullet",
   "language": "python",
   "name": "python3"
  },
  "language_info": {
   "codemirror_mode": {
    "name": "ipython",
    "version": 3
   },
   "file_extension": ".py",
   "mimetype": "text/x-python",
   "name": "python",
   "nbconvert_exporter": "python",
   "pygments_lexer": "ipython3",
   "version": "3.10.16"
  }
 },
 "nbformat": 4,
 "nbformat_minor": 2
}
